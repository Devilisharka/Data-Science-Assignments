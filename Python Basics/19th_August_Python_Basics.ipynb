{
  "nbformat": 4,
  "nbformat_minor": 0,
  "metadata": {
    "colab": {
      "provenance": [],
      "toc_visible": true,
      "authorship_tag": "ABX9TyODVWhQtMx+IJaGLo46REDR",
      "include_colab_link": true
    },
    "kernelspec": {
      "name": "python3",
      "display_name": "Python 3"
    },
    "language_info": {
      "name": "python"
    }
  },
  "cells": [
    {
      "cell_type": "markdown",
      "metadata": {
        "id": "view-in-github",
        "colab_type": "text"
      },
      "source": [
        "<a href=\"https://colab.research.google.com/github/Devilisharka/Data-Science-Assignments/blob/main/19th_August_Python_Basics.ipynb\" target=\"_parent\"><img src=\"https://colab.research.google.com/assets/colab-badge.svg\" alt=\"Open In Colab\"/></a>"
      ]
    },
    {
      "cell_type": "markdown",
      "source": [
        "1. **x, y = y, x: It utilizes tuple unpacking to simultaneously assign new values to x and y. The right side creates a tuple (y, x), and then the values are unpacked and assigned to x and y. As a result, the values of x and y are swapped without needing a temporary variable**."
      ],
      "metadata": {
        "id": "sHi7yxgtWnzQ"
      }
    },
    {
      "cell_type": "code",
      "execution_count": 1,
      "metadata": {
        "colab": {
          "base_uri": "https://localhost:8080/"
        },
        "id": "p7oNMwGDHTv1",
        "outputId": "42939e70-6daa-44cc-9482-3ac4bf68afad"
      },
      "outputs": [
        {
          "output_type": "stream",
          "name": "stdout",
          "text": [
            "20\n",
            "10\n"
          ]
        }
      ],
      "source": [
        "x=10\n",
        "y=20\n",
        "x,y=y,x\n",
        "print(x)\n",
        "print(y)"
      ]
    },
    {
      "cell_type": "markdown",
      "source": [
        "**2. Since every input is in string format, first i convert it to float and then perform the area using the formula**"
      ],
      "metadata": {
        "id": "RrIKLWjUXREC"
      }
    },
    {
      "cell_type": "code",
      "source": [
        "length= float(input('Enter length: '))\n",
        "breadth= float(input('enter breadth: '))\n",
        "area= length *  breadth\n",
        "print(area)"
      ],
      "metadata": {
        "colab": {
          "base_uri": "https://localhost:8080/"
        },
        "id": "msdcw2f1IRA0",
        "outputId": "09ced242-6078-4ee1-81fc-e6e948c069cd"
      },
      "execution_count": 4,
      "outputs": [
        {
          "output_type": "stream",
          "name": "stdout",
          "text": [
            "Enter length: 12\n",
            "enter breadth: 23\n",
            "276.0\n"
          ]
        }
      ]
    },
    {
      "cell_type": "markdown",
      "source": [
        "3. **Again by converting the input into float and performing the conversion using the formula, i use the round function to round the answer upto 2 places**"
      ],
      "metadata": {
        "id": "YzcfJi4sXga6"
      }
    },
    {
      "cell_type": "code",
      "source": [
        "c= float(input(\"Enter Temperature in Celcius: \"))\n",
        "f= (c * (9/5)) + 32\n",
        "print(round(f,2))"
      ],
      "metadata": {
        "colab": {
          "base_uri": "https://localhost:8080/"
        },
        "id": "SqpJXCwSIj_b",
        "outputId": "22164397-a6dc-4c10-c140-9a2197e8d526"
      },
      "execution_count": 2,
      "outputs": [
        {
          "output_type": "stream",
          "name": "stdout",
          "text": [
            "Enter Temperature in Celcius: 37\n",
            "98.6\n"
          ]
        }
      ]
    },
    {
      "cell_type": "markdown",
      "source": [
        "**4. By using the len function, we can find any string length**"
      ],
      "metadata": {
        "id": "Fwzh9nwbYQ3y"
      }
    },
    {
      "cell_type": "code",
      "source": [
        "x= input(\"Enter a string: \")\n",
        "print(len(x))"
      ],
      "metadata": {
        "colab": {
          "base_uri": "https://localhost:8080/"
        },
        "id": "bcSFYaZNRlbR",
        "outputId": "cf632306-0eea-4c43-90f4-adf1f076be50"
      },
      "execution_count": 3,
      "outputs": [
        {
          "output_type": "stream",
          "name": "stdout",
          "text": [
            "Enter a string: Hello, world!\n",
            "13\n"
          ]
        }
      ]
    },
    {
      "cell_type": "markdown",
      "source": [
        "**5: First, using the count function, i store the occurences of each vowels in each of the variables, then by adding them together and storing them in a single variable, i got the required answer**"
      ],
      "metadata": {
        "id": "-HL7fyBLYchg"
      }
    },
    {
      "cell_type": "code",
      "source": [
        "x= input(\"Enter a sentence: \")\n",
        "a= x.count('a')\n",
        "e= x.count('e')\n",
        "i= x.count('i')\n",
        "o= x.count('o')\n",
        "u= x.count('u')\n",
        "t_v= a+e+i+o+u\n",
        "print(\"Total vowels: \", t_v)"
      ],
      "metadata": {
        "colab": {
          "base_uri": "https://localhost:8080/"
        },
        "id": "zOZZ2huXSPoB",
        "outputId": "b1979327-964f-4f1f-b8ee-d516b7cbe56c"
      },
      "execution_count": 4,
      "outputs": [
        {
          "output_type": "stream",
          "name": "stdout",
          "text": [
            "Enter a sentence: Hello world\n",
            "Total vowels:  3\n"
          ]
        }
      ]
    },
    {
      "cell_type": "code",
      "source": [
        "x= input(\"Enter a string: \")\n",
        "y= x[::-1]\n",
        "print(y)"
      ],
      "metadata": {
        "colab": {
          "base_uri": "https://localhost:8080/"
        },
        "id": "ruxW60KATcHD",
        "outputId": "303d61a4-03d7-44c3-80a3-dfaa93146365"
      },
      "execution_count": 9,
      "outputs": [
        {
          "output_type": "stream",
          "name": "stdout",
          "text": [
            "Enter a string: hello world\n",
            "dlrow olleh\n"
          ]
        }
      ]
    },
    {
      "cell_type": "markdown",
      "source": [
        "7. **By utilising string slicing like in the previous question, i checked if the reversed word is equal to the original string using if statement to get the answer**\n",
        "\n"
      ],
      "metadata": {
        "id": "Bj20lLpYY2aK"
      }
    },
    {
      "cell_type": "code",
      "source": [
        "x= input(\"Enter a string: \")\n",
        "y= x[::-1]\n",
        "if(x==y):\n",
        "  print(\"Palindrome\")\n",
        "else:\n",
        "  print(\"Not Palindrome\")"
      ],
      "metadata": {
        "colab": {
          "base_uri": "https://localhost:8080/"
        },
        "id": "4WKa9DiRUcLf",
        "outputId": "c1c7ac5e-b91b-4998-b88d-74d01c36d099"
      },
      "execution_count": 12,
      "outputs": [
        {
          "output_type": "stream",
          "name": "stdout",
          "text": [
            "Enter a string: radar\n",
            "Palindrome\n"
          ]
        }
      ]
    },
    {
      "cell_type": "markdown",
      "source": [
        "8. **By using the replace function, i replace the spaces with no spaces.**"
      ],
      "metadata": {
        "id": "I2wnkipPZEZw"
      }
    },
    {
      "cell_type": "code",
      "source": [
        "x= input(\"Enter a string: \")\n",
        "y= x.replace(\" \", \"\")\n",
        "print(y)"
      ],
      "metadata": {
        "colab": {
          "base_uri": "https://localhost:8080/"
        },
        "id": "xJKvzjXVVYFP",
        "outputId": "3cf78e44-030e-49af-dd2f-e8c52ad185bd"
      },
      "execution_count": 16,
      "outputs": [
        {
          "output_type": "stream",
          "name": "stdout",
          "text": [
            "Enter a string: Hello World\n",
            "HelloWorld\n"
          ]
        }
      ]
    }
  ]
}